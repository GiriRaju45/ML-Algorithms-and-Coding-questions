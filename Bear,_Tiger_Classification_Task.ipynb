{
  "nbformat": 4,
  "nbformat_minor": 5,
  "metadata": {
    "kernelspec": {
      "display_name": "Python 3",
      "language": "python",
      "name": "python3"
    },
    "language_info": {
      "codemirror_mode": {
        "name": "ipython",
        "version": 3
      },
      "file_extension": ".py",
      "mimetype": "text/x-python",
      "name": "python",
      "nbconvert_exporter": "python",
      "pygments_lexer": "ipython3",
      "version": "3.9.6"
    },
    "colab": {
      "provenance": [],
      "include_colab_link": true
    }
  },
  "cells": [
    {
      "cell_type": "markdown",
      "metadata": {
        "id": "view-in-github",
        "colab_type": "text"
      },
      "source": [
        "<a href=\"https://colab.research.google.com/github/GiriRaju45/ML-Algorithms-and-Coding-questions/blob/main/Bear%2C_Tiger_Classification_Task.ipynb\" target=\"_parent\"><img src=\"https://colab.research.google.com/assets/colab-badge.svg\" alt=\"Open In Colab\"/></a>"
      ]
    },
    {
      "cell_type": "code",
      "metadata": {
        "id": "67c4f7f4"
      },
      "source": [
        "# importing required libraries\n",
        "\n",
        "import numpy as np\n",
        "import matplotlib.pyplot as plt\n",
        "import os\n",
        "import cv2\n",
        "import PIL\n",
        "from PIL import Image\n",
        "import tensorflow as tf\n",
        "import pandas as pd\n",
        "from tensorflow.keras.layers import Dropout, Dense, GlobalAveragePooling2D, Flatten\n",
        "from sklearn.model_selection import train_test_split\n",
        "from tensorflow.keras.models import Sequential, Model\n",
        "from keras.preprocessing.image import ImageDataGenerator, array_to_img, img_to_array, load_img"
      ],
      "id": "67c4f7f4",
      "execution_count": null,
      "outputs": []
    },
    {
      "cell_type": "code",
      "metadata": {
        "id": "ecaa9021"
      },
      "source": [
        "# creating dataset using given raw images for internet, pinterest, etc.\n",
        "\n",
        "def create_dataset(img_folder):\n",
        "\n",
        "    img_data_array=[]\n",
        "    class_name=[]\n",
        "\n",
        "    for dir1 in os.listdir(img_folder):\n",
        "        for file in os.listdir(os.path.join(img_folder, dir1)):\n",
        "\n",
        "            image_path= os.path.join(img_folder, dir1,  file)\n",
        "            image= Image.open(image_path)\n",
        "            image= image.convert('RGB')\n",
        "            image = np.resize(image,(224,224,3))\n",
        "            image= np.array(image)\n",
        "            image = image.astype('float32')\n",
        "            image /= 255\n",
        "            img_data_array.append(image)\n",
        "            class_name.append(dir1)\n",
        "    return img_data_array, class_name\n",
        "# extract the image array and class name\n",
        "img_data, class_name =create_dataset('C:/image_data/')"
      ],
      "id": "ecaa9021",
      "execution_count": null,
      "outputs": []
    },
    {
      "cell_type": "code",
      "metadata": {
        "id": "5dbb1a60"
      },
      "source": [
        "# generating new images using imagedatagenerator. -- Data Augmentation\n",
        "\n",
        "datagen = ImageDataGenerator(\n",
        "        rotation_range= 30, width_shift_range = 0.2, height_shift_range = 0.2, shear_range = 0.3, zoom_range = 0.4 , horizontal_flip = True, fill_mode = 'nearest')"
      ],
      "id": "5dbb1a60",
      "execution_count": null,
      "outputs": []
    },
    {
      "cell_type": "code",
      "metadata": {
        "id": "5d5882fa",
        "outputId": "cb66dd4f-1a88-45d7-8135-5cee65eac582"
      },
      "source": [
        "img = load_img('C:/image_data/tiger_images/110.luther-bostons-iconic-white-tiger-dies-at-14.jpg')\n",
        "x = img_to_array(img)\n",
        "print(x.shape)\n",
        "x = x.reshape((1,) + x.shape)\n",
        "print(x.shape)\n",
        "i = 0\n",
        "for batch in datagen.flow(x, batch_size=1, save_to_dir = 'C:/image_data/tiger_images/'\n",
        "                         ,save_prefix = 'tiger', save_format = 'jpg' ):\n",
        "    i+=1\n",
        "    if i>20:\n",
        "\n",
        "        break"
      ],
      "id": "5d5882fa",
      "execution_count": null,
      "outputs": [
        {
          "name": "stdout",
          "output_type": "stream",
          "text": [
            "(200, 200, 3)\n",
            "(1, 200, 200, 3)\n"
          ]
        }
      ]
    },
    {
      "cell_type": "code",
      "metadata": {
        "id": "4436b5ff",
        "outputId": "5d0dbd2b-932c-4c19-b53f-b3dfe0bc7e05"
      },
      "source": [
        "# creating categories for the images and assigning labels\n",
        "target_dict = {k:val for val,k in enumerate(np.unique(class_name))}\n",
        "target_dict"
      ],
      "id": "4436b5ff",
      "execution_count": null,
      "outputs": [
        {
          "data": {
            "text/plain": [
              "{'Bear images': 0, 'tiger_images': 1}"
            ]
          },
          "execution_count": 27,
          "metadata": {},
          "output_type": "execute_result"
        }
      ]
    },
    {
      "cell_type": "code",
      "metadata": {
        "id": "b9f67c27"
      },
      "source": [
        "target_val=  [target_dict[class_name[i]] for i in range(len(class_name))]"
      ],
      "id": "b9f67c27",
      "execution_count": null,
      "outputs": []
    },
    {
      "cell_type": "code",
      "metadata": {
        "id": "99df2653",
        "outputId": "08944e00-c1c9-4b39-d337-28020e57c771"
      },
      "source": [
        "# using VGG19 MODEL FOR TRANSFER LEARNING\n",
        "img_width,img_height = 224,224\n",
        "model = tf.keras.applications.VGG19(include_top=False, input_shape= (img_width, img_height, 3), weights = 'imagenet')\n",
        "model.summary()"
      ],
      "id": "99df2653",
      "execution_count": null,
      "outputs": [
        {
          "name": "stdout",
          "output_type": "stream",
          "text": [
            "Model: \"vgg19\"\n",
            "_________________________________________________________________\n",
            "Layer (type)                 Output Shape              Param #   \n",
            "=================================================================\n",
            "input_6 (InputLayer)         [(None, 224, 224, 3)]     0         \n",
            "_________________________________________________________________\n",
            "block1_conv1 (Conv2D)        (None, 224, 224, 64)      1792      \n",
            "_________________________________________________________________\n",
            "block1_conv2 (Conv2D)        (None, 224, 224, 64)      36928     \n",
            "_________________________________________________________________\n",
            "block1_pool (MaxPooling2D)   (None, 112, 112, 64)      0         \n",
            "_________________________________________________________________\n",
            "block2_conv1 (Conv2D)        (None, 112, 112, 128)     73856     \n",
            "_________________________________________________________________\n",
            "block2_conv2 (Conv2D)        (None, 112, 112, 128)     147584    \n",
            "_________________________________________________________________\n",
            "block2_pool (MaxPooling2D)   (None, 56, 56, 128)       0         \n",
            "_________________________________________________________________\n",
            "block3_conv1 (Conv2D)        (None, 56, 56, 256)       295168    \n",
            "_________________________________________________________________\n",
            "block3_conv2 (Conv2D)        (None, 56, 56, 256)       590080    \n",
            "_________________________________________________________________\n",
            "block3_conv3 (Conv2D)        (None, 56, 56, 256)       590080    \n",
            "_________________________________________________________________\n",
            "block3_conv4 (Conv2D)        (None, 56, 56, 256)       590080    \n",
            "_________________________________________________________________\n",
            "block3_pool (MaxPooling2D)   (None, 28, 28, 256)       0         \n",
            "_________________________________________________________________\n",
            "block4_conv1 (Conv2D)        (None, 28, 28, 512)       1180160   \n",
            "_________________________________________________________________\n",
            "block4_conv2 (Conv2D)        (None, 28, 28, 512)       2359808   \n",
            "_________________________________________________________________\n",
            "block4_conv3 (Conv2D)        (None, 28, 28, 512)       2359808   \n",
            "_________________________________________________________________\n",
            "block4_conv4 (Conv2D)        (None, 28, 28, 512)       2359808   \n",
            "_________________________________________________________________\n",
            "block4_pool (MaxPooling2D)   (None, 14, 14, 512)       0         \n",
            "_________________________________________________________________\n",
            "block5_conv1 (Conv2D)        (None, 14, 14, 512)       2359808   \n",
            "_________________________________________________________________\n",
            "block5_conv2 (Conv2D)        (None, 14, 14, 512)       2359808   \n",
            "_________________________________________________________________\n",
            "block5_conv3 (Conv2D)        (None, 14, 14, 512)       2359808   \n",
            "_________________________________________________________________\n",
            "block5_conv4 (Conv2D)        (None, 14, 14, 512)       2359808   \n",
            "_________________________________________________________________\n",
            "block5_pool (MaxPooling2D)   (None, 7, 7, 512)         0         \n",
            "=================================================================\n",
            "Total params: 20,024,384\n",
            "Trainable params: 20,024,384\n",
            "Non-trainable params: 0\n",
            "_________________________________________________________________\n"
          ]
        }
      ]
    },
    {
      "cell_type": "code",
      "metadata": {
        "id": "7785c40b",
        "outputId": "4902d0e2-37e8-45aa-b4ad-3107287c11ba"
      },
      "source": [
        "last_layer = model.get_layer('block5_pool')\n",
        "layers = Model(inputs = model.inputs, outputs = last_layer.output)\n",
        "layers.summary()"
      ],
      "id": "7785c40b",
      "execution_count": null,
      "outputs": [
        {
          "name": "stdout",
          "output_type": "stream",
          "text": [
            "Model: \"model_1\"\n",
            "_________________________________________________________________\n",
            "Layer (type)                 Output Shape              Param #   \n",
            "=================================================================\n",
            "input_6 (InputLayer)         [(None, 224, 224, 3)]     0         \n",
            "_________________________________________________________________\n",
            "block1_conv1 (Conv2D)        (None, 224, 224, 64)      1792      \n",
            "_________________________________________________________________\n",
            "block1_conv2 (Conv2D)        (None, 224, 224, 64)      36928     \n",
            "_________________________________________________________________\n",
            "block1_pool (MaxPooling2D)   (None, 112, 112, 64)      0         \n",
            "_________________________________________________________________\n",
            "block2_conv1 (Conv2D)        (None, 112, 112, 128)     73856     \n",
            "_________________________________________________________________\n",
            "block2_conv2 (Conv2D)        (None, 112, 112, 128)     147584    \n",
            "_________________________________________________________________\n",
            "block2_pool (MaxPooling2D)   (None, 56, 56, 128)       0         \n",
            "_________________________________________________________________\n",
            "block3_conv1 (Conv2D)        (None, 56, 56, 256)       295168    \n",
            "_________________________________________________________________\n",
            "block3_conv2 (Conv2D)        (None, 56, 56, 256)       590080    \n",
            "_________________________________________________________________\n",
            "block3_conv3 (Conv2D)        (None, 56, 56, 256)       590080    \n",
            "_________________________________________________________________\n",
            "block3_conv4 (Conv2D)        (None, 56, 56, 256)       590080    \n",
            "_________________________________________________________________\n",
            "block3_pool (MaxPooling2D)   (None, 28, 28, 256)       0         \n",
            "_________________________________________________________________\n",
            "block4_conv1 (Conv2D)        (None, 28, 28, 512)       1180160   \n",
            "_________________________________________________________________\n",
            "block4_conv2 (Conv2D)        (None, 28, 28, 512)       2359808   \n",
            "_________________________________________________________________\n",
            "block4_conv3 (Conv2D)        (None, 28, 28, 512)       2359808   \n",
            "_________________________________________________________________\n",
            "block4_conv4 (Conv2D)        (None, 28, 28, 512)       2359808   \n",
            "_________________________________________________________________\n",
            "block4_pool (MaxPooling2D)   (None, 14, 14, 512)       0         \n",
            "_________________________________________________________________\n",
            "block5_conv1 (Conv2D)        (None, 14, 14, 512)       2359808   \n",
            "_________________________________________________________________\n",
            "block5_conv2 (Conv2D)        (None, 14, 14, 512)       2359808   \n",
            "_________________________________________________________________\n",
            "block5_conv3 (Conv2D)        (None, 14, 14, 512)       2359808   \n",
            "_________________________________________________________________\n",
            "block5_conv4 (Conv2D)        (None, 14, 14, 512)       2359808   \n",
            "_________________________________________________________________\n",
            "block5_pool (MaxPooling2D)   (None, 7, 7, 512)         0         \n",
            "=================================================================\n",
            "Total params: 20,024,384\n",
            "Trainable params: 0\n",
            "Non-trainable params: 20,024,384\n",
            "_________________________________________________________________\n"
          ]
        }
      ]
    },
    {
      "cell_type": "code",
      "metadata": {
        "id": "433cfcb8"
      },
      "source": [
        "# adding new layers to the pretrained model based on the application\n",
        "new_model = Sequential()\n",
        "new_model.add(layers)\n",
        "new_model.add(Dropout(0.4))\n",
        "new_model.add(Flatten())\n",
        "new_model.add(Dense(1, activation = 'sigmoid'))\n",
        "new_model.layers[0].trainable = False\n",
        "new_model.compile(optimizer = tf.keras.optimizers.Adam(learning_rate = 0.001), loss  = tf.keras.losses.BinaryCrossentropy(), metrics = ['accuracy'])\n"
      ],
      "id": "433cfcb8",
      "execution_count": null,
      "outputs": []
    },
    {
      "cell_type": "code",
      "metadata": {
        "id": "928626f7",
        "outputId": "e9b4a4a1-80e1-4214-f44b-d9d5dcae74cc"
      },
      "source": [
        "#Training model for 25 epochs\n",
        "\n",
        "\n",
        "epochs= 25\n",
        "hist = new_model.fit(x = np.array(img_data, np.float32),y =np.array(target_val), epochs = 25)"
      ],
      "id": "928626f7",
      "execution_count": null,
      "outputs": [
        {
          "name": "stdout",
          "output_type": "stream",
          "text": [
            "Epoch 1/25\n",
            "33/33 [==============================] - 229s 7s/step - loss: 0.6529 - accuracy: 0.6336\n",
            "Epoch 2/25\n",
            "33/33 [==============================] - 239s 7s/step - loss: 0.4408 - accuracy: 0.7829\n",
            "Epoch 3/25\n",
            "33/33 [==============================] - 243s 7s/step - loss: 0.3789 - accuracy: 0.8390\n",
            "Epoch 4/25\n",
            "33/33 [==============================] - 245s 7s/step - loss: 0.3328 - accuracy: 0.8666\n",
            "Epoch 5/25\n",
            "33/33 [==============================] - 247s 7s/step - loss: 0.3461 - accuracy: 0.8624\n",
            "Epoch 6/25\n",
            "33/33 [==============================] - 249s 8s/step - loss: 0.3291 - accuracy: 0.8566\n",
            "Epoch 7/25\n",
            "33/33 [==============================] - 242s 7s/step - loss: 0.3266 - accuracy: 0.8463\n",
            "Epoch 8/25\n",
            "33/33 [==============================] - 240s 7s/step - loss: 0.2813 - accuracy: 0.8807\n",
            "Epoch 9/25\n",
            "33/33 [==============================] - 241s 7s/step - loss: 0.2664 - accuracy: 0.8922\n",
            "Epoch 10/25\n",
            "33/33 [==============================] - 245s 7s/step - loss: 0.2868 - accuracy: 0.8751\n",
            "Epoch 11/25\n",
            "33/33 [==============================] - 243s 7s/step - loss: 0.2445 - accuracy: 0.9006\n",
            "Epoch 12/25\n",
            "33/33 [==============================] - 243s 7s/step - loss: 0.2485 - accuracy: 0.8964\n",
            "Epoch 13/25\n",
            "33/33 [==============================] - 243s 7s/step - loss: 0.2357 - accuracy: 0.9083\n",
            "Epoch 14/25\n",
            "33/33 [==============================] - 250s 8s/step - loss: 0.2175 - accuracy: 0.9232\n",
            "Epoch 15/25\n",
            "33/33 [==============================] - 250s 8s/step - loss: 0.2283 - accuracy: 0.9164\n",
            "Epoch 16/25\n",
            "33/33 [==============================] - 249s 8s/step - loss: 0.2010 - accuracy: 0.9370\n",
            "Epoch 17/25\n",
            "33/33 [==============================] - 249s 8s/step - loss: 0.2357 - accuracy: 0.9001\n",
            "Epoch 18/25\n",
            "33/33 [==============================] - 245s 7s/step - loss: 0.2129 - accuracy: 0.9131\n",
            "Epoch 19/25\n",
            "33/33 [==============================] - 242s 7s/step - loss: 0.1875 - accuracy: 0.9312\n",
            "Epoch 20/25\n",
            "33/33 [==============================] - 244s 7s/step - loss: 0.2062 - accuracy: 0.9231\n",
            "Epoch 21/25\n",
            "33/33 [==============================] - 245s 7s/step - loss: 0.1768 - accuracy: 0.9405\n",
            "Epoch 22/25\n",
            "33/33 [==============================] - 240s 7s/step - loss: 0.1857 - accuracy: 0.9371\n",
            "Epoch 23/25\n",
            "33/33 [==============================] - 239s 7s/step - loss: 0.1845 - accuracy: 0.9246\n",
            "Epoch 24/25\n",
            "33/33 [==============================] - 242s 7s/step - loss: 0.1747 - accuracy: 0.9325\n",
            "Epoch 25/25\n",
            "33/33 [==============================] - 247s 7s/step - loss: 0.1914 - accuracy: 0.9342\n"
          ]
        }
      ]
    },
    {
      "cell_type": "code",
      "metadata": {
        "id": "2dd1d50e"
      },
      "source": [
        "#the above model gives accuracy of 93% for 25 epochs increasing epochs may increase the accuracy further more."
      ],
      "id": "2dd1d50e",
      "execution_count": null,
      "outputs": []
    }
  ]
}