{
  "cells": [
    {
      "cell_type": "markdown",
      "metadata": {},
      "source": [
        "#### MNIST Dataset Classification using neural networks with TensorFlow"
      ]
    },
    {
      "cell_type": "code",
      "execution_count": null,
      "metadata": {
        "id": "lyb4iMJSvE0s"
      },
      "outputs": [],
      "source": [
        "# importing the required libraries\n",
        "\n",
        "\n",
        "import tensorflow as tf\n",
        "import matplotlib.pyplot as mlt\n",
        "import os\n",
        "from keras.models import model_from_yaml\n",
        "dataset = tf.keras.datasets.mnist"
      ]
    },
    {
      "cell_type": "code",
      "execution_count": null,
      "metadata": {
        "id": "RW7rTwV4vcsJ"
      },
      "outputs": [],
      "source": [
        "# Loading the data and scaling it.\n",
        "\n",
        "(x_train,y_train), (x_test,y_test) = dataset.load_data()\n",
        "x_train, x_test = x_train/255.0, x_test/255.0"
      ]
    },
    {
      "cell_type": "code",
      "execution_count": null,
      "metadata": {
        "id": "UAQuaO7OOPaL"
      },
      "outputs": [],
      "source": [
        "# creating the list of the output classes\n",
        "\n",
        "classes = ['zero','one','two','three','four','five','six','seven','eight','nine']"
      ]
    },
    {
      "cell_type": "code",
      "execution_count": null,
      "metadata": {
        "colab": {
          "base_uri": "https://localhost:8080/"
        },
        "id": "Bkw-QiWyibVB",
        "outputId": "1270de8c-e5f4-4504-d003-c816bffbc0cb"
      },
      "outputs": [
        {
          "data": {
            "text/plain": [
              "(60000, 28, 28)"
            ]
          },
          "execution_count": 13,
          "metadata": {
            "tags": []
          },
          "output_type": "execute_result"
        }
      ],
      "source": [
        "x_train.shape"
      ]
    },
    {
      "cell_type": "code",
      "execution_count": null,
      "metadata": {
        "colab": {
          "base_uri": "https://localhost:8080/"
        },
        "id": "3RfDNOUVg95K",
        "outputId": "5d5303a0-cdaa-4143-efd5-9dbe13bd6a3d"
      },
      "outputs": [
        {
          "data": {
            "text/plain": [
              "array([0, 4, 1, 9], dtype=uint8)"
            ]
          },
          "execution_count": 14,
          "metadata": {
            "tags": []
          },
          "output_type": "execute_result"
        }
      ],
      "source": [
        "y_train.shape\n",
        "y_train[1:5]"
      ]
    },
    {
      "cell_type": "code",
      "execution_count": null,
      "metadata": {
        "colab": {
          "base_uri": "https://localhost:8080/"
        },
        "id": "H7iwGRzChpJr",
        "outputId": "00344623-92b1-42a9-d827-9a524b1bb732"
      },
      "outputs": [
        {
          "data": {
            "text/plain": [
              "(60000,)"
            ]
          },
          "execution_count": 15,
          "metadata": {
            "tags": []
          },
          "output_type": "execute_result"
        }
      ],
      "source": [
        "y_train.reshape(-1,)\n",
        "y_train.shape"
      ]
    },
    {
      "cell_type": "code",
      "execution_count": null,
      "metadata": {
        "id": "EeEOGTeyiBjc"
      },
      "outputs": [],
      "source": [
        "# Plotting the data\n",
        "\n",
        "def plot_samples(x,y,index):\n",
        "  mlt.figure(figsize = (14,3))\n",
        "  mlt.imshow(x[index])\n",
        "  mlt.xlabel(classes[y[index]])\n"
      ]
    },
    {
      "cell_type": "code",
      "execution_count": null,
      "metadata": {
        "colab": {
          "base_uri": "https://localhost:8080/",
          "height": 226
        },
        "id": "yS6AdJ15OA3w",
        "outputId": "b324b77c-97e9-47b9-8bf1-b4cb00970ee1"
      },
      "outputs": [
        {
          "data": {
            "image/png": "[encoded data removed]",
            "text/plain": [
              "<Figure size 1008x216 with 1 Axes>"
            ]
          },
          "metadata": {
            "needs_background": "light",
            "tags": []
          },
          "output_type": "display_data"
        }
      ],
      "source": [
        "plot_samples(x_train,y_train,44552)"
      ]
    },
    {
      "cell_type": "code",
      "execution_count": null,
      "metadata": {
        "id": "hYhKyutfv3v9"
      },
      "outputs": [],
      "source": [
        "# a simple sequential neural network using TensorFlow\n",
        "\n",
        "\n",
        "model = tf.keras.Sequential([\n",
        "                             tf.keras.layers.Flatten(input_shape = (28,28)),\n",
        "                             tf.keras.layers.Dense(128, activation='sigmoid'),\n",
        "                             tf.keras.layers.Dropout(0.2),\n",
        "                             tf.keras.layers.Dense(10)\n",
        "])"
      ]
    },
    {
      "cell_type": "code",
      "execution_count": null,
      "metadata": {
        "id": "Ina5lFu_xbek"
      },
      "outputs": [],
      "source": [
        "\n",
        "predictions = model(x_train[:1]).numpy()"
      ]
    },
    {
      "cell_type": "code",
      "execution_count": null,
      "metadata": {
        "colab": {
          "base_uri": "https://localhost:8080/"
        },
        "id": "X7sxJLDRxIM4",
        "outputId": "5d83a0b3-ad03-4656-870d-f9f7ed65ccc2"
      },
      "outputs": [
        {
          "data": {
            "text/plain": [
              "array([[-0.7679304 , -0.36384612,  0.15198347,  0.23864435, -0.5512376 ,\n",
              "        -0.79500073, -0.07187814, -0.3851713 , -0.40972155, -0.36518353]],\n",
              "      dtype=float32)"
            ]
          },
          "execution_count": 20,
          "metadata": {
            "tags": []
          },
          "output_type": "execute_result"
        }
      ],
      "source": [
        "\n",
        "predictions"
      ]
    },
    {
      "cell_type": "code",
      "execution_count": null,
      "metadata": {
        "colab": {
          "base_uri": "https://localhost:8080/"
        },
        "id": "CIk8LRBBx0md",
        "outputId": "7c488e83-2917-41fd-8657-2bfc9137ca4e"
      },
      "outputs": [
        {
          "data": {
            "text/plain": [
              "array([[0.06113475, 0.09157559, 0.15339164, 0.1672777 , 0.07592707,\n",
              "        0.05950202, 0.12262522, 0.08964341, 0.08746944, 0.09145319]],\n",
              "      dtype=float32)"
            ]
          },
          "execution_count": 21,
          "metadata": {
            "tags": []
          },
          "output_type": "execute_result"
        }
      ],
      "source": [
        "# Final softmax layer to find the predictions\n",
        "\n",
        "tf.nn.softmax(predictions).numpy()"
      ]
    },
    {
      "cell_type": "code",
      "execution_count": null,
      "metadata": {
        "id": "tJszuqXoyIzm"
      },
      "outputs": [],
      "source": [
        "# Assiging the loss metrics as SparseCategoricalCrossentropy since the output are different classes\n",
        "\n",
        "loss_fn = tf.keras.losses.SparseCategoricalCrossentropy(from_logits = True)"
      ]
    },
    {
      "cell_type": "code",
      "execution_count": null,
      "metadata": {
        "colab": {
          "base_uri": "https://localhost:8080/"
        },
        "id": "IgeGsyABekKt",
        "outputId": "c903ae8c-9f7d-484d-c982-0773a2fddf6b"
      },
      "outputs": [
        {
          "data": {
            "text/plain": [
              "2.821745"
            ]
          },
          "execution_count": 23,
          "metadata": {
            "tags": []
          },
          "output_type": "execute_result"
        }
      ],
      "source": [
        "loss_fn(y_train[:1], predictions).numpy()"
      ]
    },
    {
      "cell_type": "code",
      "execution_count": null,
      "metadata": {
        "id": "pV9R8CyNe8l_"
      },
      "outputs": [],
      "source": [
        "# compiling the model\n",
        "\n",
        "\n",
        "model.compile(optimizer='adam',\n",
        "              loss= loss_fn,\n",
        "              metrics= ['accuracy'])"
      ]
    },
    {
      "cell_type": "code",
      "execution_count": null,
      "metadata": {
        "colab": {
          "base_uri": "https://localhost:8080/"
        },
        "id": "ng23aewafsk8",
        "outputId": "f54ce9ea-53ae-4a3f-b66a-843abde7932a"
      },
      "outputs": [
        {
          "name": "stdout",
          "output_type": "stream",
          "text": [
            "Epoch 1/5\n",
            "1875/1875 [==============================] - 4s 2ms/step - loss: 0.4474 - accuracy: 0.8766\n",
            "Epoch 2/5\n",
            "1875/1875 [==============================] - 3s 2ms/step - loss: 0.2303 - accuracy: 0.9327\n",
            "Epoch 3/5\n",
            "1875/1875 [==============================] - 3s 2ms/step - loss: 0.1756 - accuracy: 0.9477\n",
            "Epoch 4/5\n",
            "1875/1875 [==============================] - 4s 2ms/step - loss: 0.1417 - accuracy: 0.9583\n",
            "Epoch 5/5\n",
            "1875/1875 [==============================] - 4s 2ms/step - loss: 0.1185 - accuracy: 0.9650\n"
          ]
        },
        {
          "data": {
            "text/plain": [
              "<tensorflow.python.keras.callbacks.History at 0x7f24bc32aed0>"
            ]
          },
          "execution_count": 25,
          "metadata": {
            "tags": []
          },
          "output_type": "execute_result"
        }
      ],
      "source": [
        "# training the model for 5 epochs \n",
        "\n",
        "model.fit(x_train, y_train,epochs = 5)"
      ]
    },
    {
      "cell_type": "code",
      "execution_count": null,
      "metadata": {
        "colab": {
          "base_uri": "https://localhost:8080/"
        },
        "id": "V7EWoNthfzwV",
        "outputId": "8af054bc-d859-4577-fe49-c665d1620936"
      },
      "outputs": [
        {
          "name": "stdout",
          "output_type": "stream",
          "text": [
            "313/313 - 0s - loss: 0.1012 - accuracy: 0.9692\n"
          ]
        }
      ],
      "source": [
        "test_loss, test_accuracy = model.evaluate(x_test, y_test,verbose = 2)"
      ]
    },
    {
      "cell_type": "code",
      "execution_count": null,
      "metadata": {
        "colab": {
          "base_uri": "https://localhost:8080/",
          "height": 35
        },
        "id": "mWrRgo6OPbcp",
        "outputId": "4de5ddb4-3144-4172-8058-4bc9590ee13b"
      },
      "outputs": [
        {
          "data": {
            "application/vnd.google.colaboratory.intrinsic+json": {
              "type": "string"
            },
            "text/plain": [
              "'accuracy:96.0%'"
            ]
          },
          "execution_count": 27,
          "metadata": {
            "tags": []
          },
          "output_type": "execute_result"
        }
      ],
      "source": [
        "\"{}:{}%\".format(model.metrics_names[1],(test_accuracy*100)//1)"
      ]
    },
    {
      "cell_type": "code",
      "execution_count": null,
      "metadata": {
        "colab": {
          "base_uri": "https://localhost:8080/"
        },
        "id": "mYthfvRurJiV",
        "outputId": "078ac960-9867-409f-cd9e-31d6b113f5e3"
      },
      "outputs": [
        {
          "name": "stdout",
          "output_type": "stream",
          "text": [
            "Requirement already satisfied: PyYAML in /usr/local/lib/python3.7/dist-packages (3.13)\n"
          ]
        }
      ],
      "source": [
        "pip install PyYAML"
      ]
    },
    {
      "cell_type": "code",
      "execution_count": null,
      "metadata": {
        "id": "2e62-A2rt-Gi"
      },
      "outputs": [],
      "source": [
        "model_yaml = model.to_yaml()\n",
        "with open(\"model.yaml\",\"w\") as yaml_file:\n",
        "  yaml_file.write(model_yaml)\n",
        "model.save_weights(\"model.h5\")"
      ]
    },
    {
      "cell_type": "code",
      "execution_count": null,
      "metadata": {
        "id": "D3lARHZ5utFs"
      },
      "outputs": [],
      "source": [
        "yaml_file = open('model.yaml','r')\n",
        "loaded_model_yaml = yaml_file.read()\n",
        "yaml_file.close()\n",
        "loaded_model = model_from_yaml(loaded_model_yaml)\n",
        "loaded_model.load_weights(\"model.h5\")\n"
      ]
    },
    {
      "cell_type": "code",
      "execution_count": null,
      "metadata": {
        "id": "6Zkl7kgov35_"
      },
      "outputs": [],
      "source": [
        "loaded_model.compile(loss = loss_fn,optimizer='rmsprop', metrics= ['accuracy'])"
      ]
    },
    {
      "cell_type": "code",
      "execution_count": null,
      "metadata": {
        "colab": {
          "base_uri": "https://localhost:8080/"
        },
        "id": "j0_m8bYXx4ZJ",
        "outputId": "de158569-3cb8-4515-a8bf-d4a87747c288"
      },
      "outputs": [
        {
          "name": "stdout",
          "output_type": "stream",
          "text": [
            "313/313 [==============================] - 6s 1ms/step - loss: 0.1144 - accuracy: 0.9640\n"
          ]
        }
      ],
      "source": [
        "score = loaded_model.evaluate(x_test, y_test)"
      ]
    },
    {
      "cell_type": "code",
      "execution_count": null,
      "metadata": {
        "colab": {
          "base_uri": "https://localhost:8080/"
        },
        "id": "Uu2Fub1KyHMD",
        "outputId": "08711432-fa39-4091-8f5e-45d1561b9008"
      },
      "outputs": [
        {
          "name": "stdout",
          "output_type": "stream",
          "text": [
            "accuracy : 97%\n"
          ]
        }
      ],
      "source": [
        "print(\"%s : %2.f%%\" % (loaded_model.metrics_names[1], score[1]*100))"
      ]
    }
  ],
  "metadata": {
    "colab": {
      "provenance": []
    },
    "kernelspec": {
      "display_name": "Python 3",
      "name": "python3"
    },
    "language_info": {
      "name": "python"
    }
  },
  "nbformat": 4,
  "nbformat_minor": 0
}
